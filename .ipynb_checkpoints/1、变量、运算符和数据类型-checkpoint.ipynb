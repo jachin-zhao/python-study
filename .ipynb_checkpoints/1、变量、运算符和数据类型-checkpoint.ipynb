{
 "cells": [
  {
   "cell_type": "markdown",
   "metadata": {},
   "source": [
    " [TOC]"
   ]
  },
  {
   "cell_type": "markdown",
   "metadata": {},
   "source": [
    "# 1、变量、运算符和数据类型\n",
    "## 了解python中的内存"
   ]
  },
  {
   "cell_type": "code",
   "execution_count": 7,
   "metadata": {},
   "outputs": [
    {
     "name": "stdout",
     "output_type": "stream",
     "text": [
      "False True\n",
      "True False\n"
     ]
    }
   ],
   "source": [
    "#例子\n",
    "a = 'aaa'\n",
    "b = 'bbb'\n",
    "c = 'bbb'\n",
    "print(a is b, a != b)\n",
    "print(a is not b , a == b)"
   ]
  },
  {
   "cell_type": "markdown",
   "metadata": {},
   "source": [
    "### is, is not与==,!=的区别\n",
    "is,is not对比的是两个变量内存的地址\n",
    "== ，！= 对比的是两个变量的值\n",
    "变量的值好理解\n",
    "但是变量内存地址到底是什么鬼？"
   ]
  },
  {
   "cell_type": "markdown",
   "metadata": {},
   "source": [
    "### 整数和浮点数的内存地址"
   ]
  },
  {
   "cell_type": "code",
   "execution_count": 12,
   "metadata": {},
   "outputs": [
    {
     "name": "stdout",
     "output_type": "stream",
     "text": [
      "140580271978448\n",
      "140580271977648\n",
      "4306103648\n",
      "4306103648\n",
      "140580260546672\n",
      "140580260547760\n"
     ]
    }
   ],
   "source": [
    "d = 300\n",
    "e = 300\n",
    "f = 200\n",
    "g = 200\n",
    "h = 12.5\n",
    "j = 12.5\n",
    "print(id(d))\n",
    "print(id(e))\n",
    "print(id(f))\n",
    "print(id(g))\n",
    "print(id(h))\n",
    "print(id(j))"
   ]
  },
  {
   "cell_type": "markdown",
   "metadata": {},
   "source": [
    "回到内存问题，首先是对于数值内存\n",
    "查阅了相关资料《python源码剖析》，对于小整数对象池，python在执行的时候已经为我们创建了固定的内存地址，而这个小整数池的范围是[-5~256],包含前后（python源码剖析中的描述为[-5，257））\n",
    "对于浮点数，python也是按需要分配内存"
   ]
  },
  {
   "cell_type": "markdown",
   "metadata": {},
   "source": [
    "### 字符串的内存地址"
   ]
  },
  {
   "cell_type": "code",
   "execution_count": 37,
   "metadata": {},
   "outputs": [
    {
     "name": "stdout",
     "output_type": "stream",
     "text": [
      "True\n",
      "140580183947504\n",
      "140580183947504\n"
     ]
    }
   ],
   "source": [
    "a1 = 'adfafddfasfafsadfasdfasdfasdfasdfasfasfasf'\n",
    "b1 = 'adfafddfasfafsadfasdfasdfasdfasdfasfasfasf'\n",
    "c1 = 'number'\n",
    "d1 = 'number'\n",
    "print(a1 is b1)\n",
    "print(id(c1))\n",
    "print(id(d1))"
   ]
  },
  {
   "cell_type": "markdown",
   "metadata": {},
   "source": [
    "对于字符串，普通的字符串的内存地址应该是可以驻留，即内存地址固定，但是对于元组、字典、列表、集合等容器类对象，内存地址就不会相同"
   ]
  },
  {
   "cell_type": "code",
   "execution_count": 38,
   "metadata": {},
   "outputs": [
    {
     "name": "stdout",
     "output_type": "stream",
     "text": [
      "False\n"
     ]
    }
   ],
   "source": [
    "R1 = [1,2,3]\n",
    "R2 = [1,2,3]\n",
    "print(R1 is R2)"
   ]
  },
  {
   "cell_type": "code",
   "execution_count": 41,
   "metadata": {},
   "outputs": [
    {
     "name": "stdout",
     "output_type": "stream",
     "text": [
      "False\n",
      "True\n"
     ]
    }
   ],
   "source": [
    "R3 = (1,2,3)\n",
    "R4 = (1,2,3)\n",
    "print(R3 is R4)\n",
    "print(R3 == R4)  #数值可以相同，但是内存地址各自对应不同的内存地址"
   ]
  },
  {
   "cell_type": "markdown",
   "metadata": {},
   "source": [
    "## print函数\n",
    "> 最简单但其实也不简单的一个内置函数"
   ]
  },
  {
   "cell_type": "markdown",
   "metadata": {},
   "source": [
    "print(*objects, sep=' ', end='\\n', file=sys.stdout, flush=False)\n",
    "- 将对象以字符串表示的方式格式化输出到流文件对象file里。其中所有非关键字参数都按`str()`方式进行转换为字符串输出；\n",
    "- 关键字参数`sep`是实现分隔符，比如多个参数输出时想要输出中间的分隔字符；\n",
    "- 关键字参数`end`是输出结束时的字符，默认是换行符`\\n`；\n",
    "- 关键字参数`file`是定义流输出的文件，可以是标准的系统输出`sys.stdout`，也可以重定义为别的文件；\n",
    "- 关键字参数`flush`是立即把内容输出到流文件，不作缓存。"
   ]
  },
  {
   "cell_type": "markdown",
   "metadata": {},
   "source": [
    "【例子】没有参数时，每次输出后都会换行"
   ]
  },
  {
   "cell_type": "code",
   "execution_count": 43,
   "metadata": {},
   "outputs": [
    {
     "name": "stdout",
     "output_type": "stream",
     "text": [
      "This is printed without 'end'and 'sep'.\n",
      "apple\n",
      "mango\n",
      "carrot\n",
      "banana\n"
     ]
    }
   ],
   "source": [
    "shoplist = ['apple', 'mango', 'carrot', 'banana']\n",
    "print(\"This is printed without 'end'and 'sep'.\")\n",
    "for item in shoplist:\n",
    "    print(item)"
   ]
  },
  {
   "cell_type": "markdown",
   "metadata": {},
   "source": [
    "【例子】每次输出结束都用`end`设置的参数`\\t`结尾，并没有默认换行。"
   ]
  },
  {
   "cell_type": "code",
   "execution_count": 54,
   "metadata": {},
   "outputs": [
    {
     "name": "stdout",
     "output_type": "stream",
     "text": [
      "This is printed with 'end='\\t'\n",
      "apple\tmango\tcarrot\tbanana\thello world\n"
     ]
    }
   ],
   "source": [
    "shoplist = ['apple', 'mango', 'carrot', 'banana']\n",
    "#print(\"This is printed with 'end='\\\\t'\") # 使用\\\\t\n",
    "print(r\"This is printed with 'end='\\t'\") #或者这样，使用print(r“”)\n",
    "for item in shoplist:\n",
    "    print(item, end='\\t')\n",
    "print('hello world')"
   ]
  },
  {
   "cell_type": "markdown",
   "metadata": {},
   "source": [
    "## 练习题"
   ]
  },
  {
   "cell_type": "markdown",
   "metadata": {},
   "source": [
    "### 1、怎样对python中的代码进行注释？"
   ]
  },
  {
   "cell_type": "code",
   "execution_count": 52,
   "metadata": {},
   "outputs": [
    {
     "name": "stdout",
     "output_type": "stream",
     "text": [
      "hello\n"
     ]
    }
   ],
   "source": [
    "#单行使用‘#’\n",
    "'''\n",
    "多行使用\n",
    "print('invalid')\n",
    "'''\n",
    "print('hello')"
   ]
  },
  {
   "cell_type": "markdown",
   "metadata": {},
   "source": [
    "### python有哪些运算符，这些运算符的优先级是怎样的？"
   ]
  },
  {
   "cell_type": "code",
   "execution_count": null,
   "metadata": {},
   "outputs": [],
   "source": [
    "'''\n",
    "算数运算符\n",
    "比较运算符\n",
    "逻辑运算符\n",
    "位运算符\n",
    "三元运算符\n",
    "    if函数的简约版\n",
    "其他运算符\n",
    "'''\n",
    "''''\n",
    "运算符的优先级，这玩意等同于一般数学加减乘除的顺序吧\n",
    "'''"
   ]
  },
  {
   "cell_type": "markdown",
   "metadata": {},
   "source": [
    "### python 中 `is`, `is not` 与 `==`, `!=` 的区别是什么？"
   ]
  },
  {
   "cell_type": "code",
   "execution_count": null,
   "metadata": {},
   "outputs": [],
   "source": [
    "#上面👆很详细的说明过了，在此不啰嗦了"
   ]
  },
  {
   "cell_type": "markdown",
   "metadata": {},
   "source": [
    "### python 中包含哪些数据类型？这些数据类型之间如何转换？"
   ]
  },
  {
   "cell_type": "code",
   "execution_count": null,
   "metadata": {},
   "outputs": [],
   "source": [
    "#整数、浮点数、布尔型（逻辑运算的齿轮⚙️）\n",
    "#数值类型的转换通过函数来执行\n",
    "'''\n",
    "int()\n",
    "float()\n",
    "获取类型信息 type（object）函数\n",
    "- 转换为整型 `int(x, base=10)`\n",
    "- 转换为字符串 `str(object='')`\n",
    "- 转换为浮点型 `float(x)`\n",
    "'''\n",
    "#bool(x)函数，只要x不是整型、浮点型数据，都是Ture。"
   ]
  },
  {
   "cell_type": "markdown",
   "metadata": {},
   "source": [
    "# 位运算"
   ]
  },
  {
   "cell_type": "markdown",
   "metadata": {},
   "source": [
    "> **位运算符只对整数使用才有意义**"
   ]
  },
  {
   "cell_type": "markdown",
   "metadata": {},
   "source": [
    "原码、反码和补码\n",
    "\n",
    "正数：原码、反码、补码都一样，就是原码 负数：反码为除符号位（最高位，0代表正数，1代表负数）外，其余位取反，即0->1,1->0"
   ]
  },
  {
   "cell_type": "code",
   "execution_count": 13,
   "metadata": {},
   "outputs": [
    {
     "name": "stdout",
     "output_type": "stream",
     "text": [
      "20\n",
      "5\n",
      "80\n",
      "2.0\n",
      "1024\n"
     ]
    }
   ],
   "source": [
    "'''\n",
    "~ 非操作符\n",
    "& 与操作符\n",
    "｜ 或操作符\n",
    "^ 异或操作符\n",
    "<< 左移操作符\n",
    ">> 右移操作符\n",
    "\n",
    "'''\n",
    "num = 10\n",
    "print(num << 1)  #表示num*2\n",
    "print(num >> 1)  #表示num/2\n",
    "print(num << 3)  #表示num*（2^3）\n",
    "print(float(num >> 2))  #表示num/（2^4）\n",
    "print(1 << num)  #表示2^10"
   ]
  },
  {
   "cell_type": "code",
   "execution_count": 15,
   "metadata": {},
   "outputs": [
    {
     "name": "stdout",
     "output_type": "stream",
     "text": [
      "20 30\n"
     ]
    }
   ],
   "source": [
    "#通过 ^ 进行两个整数间的快速交换\n",
    "num1 = 20\n",
    "num2 = 30\n",
    "num2 ^= num1\n",
    "num1 ^= num2\n",
    "num2 ^= num1\n",
    "print(num2,num1)"
   ]
  },
  {
   "cell_type": "markdown",
   "metadata": {},
   "source": [
    "> 算了，我放弃位运算了，如果有一天有用到的时候再回来学，因为暂时不知道这能用在什么上面"
   ]
  },
  {
   "cell_type": "markdown",
   "metadata": {},
   "source": [
    "## 练习题"
   ]
  },
  {
   "cell_type": "markdown",
   "metadata": {
    "jupyter": {
     "outputs_hidden": true
    }
   },
   "source": [
    "leetcode 习题 136. 只出现一次的数字\n",
    "\n",
    "给定一个**非空**整数数组，除了某个元素只出现一次以外，其余每个元素均出现两次。找出那个只出现了一次的元素。\n",
    "\n",
    "尝试使用位运算解决此题。"
   ]
  },
  {
   "cell_type": "markdown",
   "metadata": {},
   "source": [
    "\"\"\"\n",
    "Input file\n",
    "example1: [2,2,1]\n",
    "example2: [4,1,2,1,2]\n",
    "\n",
    "Output file\n",
    "result1: 1\n",
    "result2: 4\n",
    "\"\"\"\n",
    "\n",
    "\n",
    "\n",
    "class Solution:\n",
    "    def singleNumber(self, nums: List[int]) -> int:\n",
    "        pass"
   ]
  }
 ],
 "metadata": {
  "kernelspec": {
   "display_name": "Python 3",
   "language": "python",
   "name": "python3"
  },
  "language_info": {
   "codemirror_mode": {
    "name": "ipython",
    "version": 3
   },
   "file_extension": ".py",
   "mimetype": "text/x-python",
   "name": "python",
   "nbconvert_exporter": "python",
   "pygments_lexer": "ipython3",
   "version": "3.7.6"
  }
 },
 "nbformat": 4,
 "nbformat_minor": 4
}
