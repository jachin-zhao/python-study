{
 "cells": [
  {
   "cell_type": "markdown",
   "metadata": {},
   "source": [
    "# python异常处理"
   ]
  },
  {
   "cell_type": "markdown",
   "metadata": {},
   "source": [
    "## python标准异常"
   ]
  },
  {
   "cell_type": "markdown",
   "metadata": {},
   "source": [
    "> 进行代码更改时候的指引"
   ]
  },
  {
   "cell_type": "markdown",
   "metadata": {},
   "source": [
    "- BaseException：所有异常的 **基类**\n",
    "- Exception：常规异常的 **基类**\n",
    "- StandardError：所有的内建标准异常的基类\n",
    "- ArithmeticError：所有数值计算异常的基类\n",
    "- FloatingPointError：浮点计算异常\n",
    "- <u>OverflowError</u>：数值运算超出最大限制\n",
    "- <u>ZeroDivisionError</u>：除数为零\n",
    "- <u>AssertionError</u>：断言语句（assert）失败\n",
    "- <u>AttributeError</u>：尝试访问未知的对象属性\n",
    "- EOFError：没有内建输入，到达EOF标记\n",
    "- EnvironmentError：操作系统异常的基类\n",
    "- IOError：输入/输出操作失败\n",
    "- <u>OSError</u>：操作系统产生的异常（例如打开一个不存在的文件）\n",
    "- WindowsError：系统调用失败\n",
    "- <u>ImportError</u>：导入模块失败的时候\n",
    "- KeyboardInterrupt：用户中断执行\n",
    "- LookupError：无效数据查询的基类\n",
    "- <u>IndexError</u>：索引超出序列的范围\n",
    "- <u>KeyError</u>：字典中查找一个不存在的关键字\n",
    "- <u>MemoryError</u>：内存溢出（可通过删除对象释放内存）\n",
    "- <u>NameError</u>：尝试访问一个不存在的变量\n",
    "- UnboundLocalError：访问未初始化的本地变量\n",
    "- ReferenceError：弱引用试图访问已经垃圾回收了的对象\n",
    "- RuntimeError：一般的运行时异常\n",
    "- NotImplementedError：尚未实现的方法\n",
    "- <u>SyntaxError</u>：语法错误导致的异常\n",
    "- IndentationError：缩进错误导致的异常\n",
    "- TabError：Tab和空格混用\n",
    "- SystemError：一般的解释器系统异常\n",
    "- <u>TypeError</u>：不同类型间的无效操作\n",
    "- <u>ValueError</u>：传入无效的参数\n",
    "- UnicodeError：Unicode相关的异常\n",
    "- UnicodeDecodeError：Unicode解码时的异常\n",
    "- UnicodeEncodeError：Unicode编码错误导致的异常\n",
    "- UnicodeTranslateError：Unicode转换错误导致的异常"
   ]
  },
  {
   "cell_type": "markdown",
   "metadata": {},
   "source": [
    "## python标准警告⚠️"
   ]
  },
  {
   "cell_type": "markdown",
   "metadata": {},
   "source": [
    "- Warning：警告的基类\n",
    "- DeprecationWarning：关于被弃用的特征的警告\n",
    "- FutureWarning：关于构造将来语义会有改变的警告\n",
    "- UserWarning：用户代码生成的警告\n",
    "- PendingDeprecationWarning：关于特性将会被废弃的警告\n",
    "- RuntimeWarning：可疑的运行时行为(runtime behavior)的警告\n",
    "- SyntaxWarning：可疑语法的警告\n",
    "- ImportWarning：用于在导入模块过程中触发的警告\n",
    "- UnicodeWarning：与Unicode相关的警告\n",
    "- BytesWarning：与字节或字节码相关的警告\n",
    "- ResourceWarning：与资源使用相关的警告"
   ]
  },
  {
   "cell_type": "markdown",
   "metadata": {},
   "source": [
    "## try-except语句"
   ]
  },
  {
   "cell_type": "code",
   "execution_count": null,
   "metadata": {},
   "outputs": [],
   "source": [
    "try:\n",
    "    检测范围\n",
    "except Exception[as reason]:\n",
    "    出现异常后的处理代码"
   ]
  },
  {
   "cell_type": "code",
   "execution_count": 3,
   "metadata": {},
   "outputs": [
    {
     "name": "stdout",
     "output_type": "stream",
     "text": [
      "打开文件出错\n",
      "原因是：[Errno 2] No such file or directory: 'test.txt'\n"
     ]
    }
   ],
   "source": [
    "try:\n",
    "    f = open('test.txt')\n",
    "    print(f.read())\n",
    "    f.close()\n",
    "except OSError as error:\n",
    "    print('打开文件出错\\n原因是：' + str(error))\n",
    "\n",
    "# 打开文件出错\n",
    "# 原因是：[Errno 2] No such file or directory: 'test.txt'"
   ]
  },
  {
   "cell_type": "code",
   "execution_count": 4,
   "metadata": {},
   "outputs": [
    {
     "name": "stdout",
     "output_type": "stream",
     "text": [
      "数值出错\n",
      "原因是：invalid literal for int() with base 10: 'abc'\n"
     ]
    }
   ],
   "source": [
    "#一个`try`语句可能包含多个`except`子句，\n",
    "#分别来处理不同的特定的异常。最多只有一个分支会被执行。\n",
    "try:\n",
    "    int(\"abc\")\n",
    "    s = 1 + '1'\n",
    "    f = open('test.txt')\n",
    "    print(f.read())\n",
    "    f.close()\n",
    "except OSError as error:\n",
    "    print('打开文件出错\\n原因是：' + str(error))\n",
    "except TypeError as error:\n",
    "    print('类型出错\\n原因是：' + str(error))\n",
    "except ValueError as error:\n",
    "    print('数值出错\\n原因是：' + str(error))"
   ]
  },
  {
   "cell_type": "markdown",
   "metadata": {},
   "source": [
    "## try - except - finally 语句"
   ]
  },
  {
   "cell_type": "code",
   "execution_count": null,
   "metadata": {},
   "outputs": [],
   "source": [
    "try:\n",
    "    检测范围\n",
    "except Exception[as reason]:\n",
    "    出现异常后的处理代码\n",
    "finally:\n",
    "    无论如何都会被执行的代码 #无论try字句中是否存在异常"
   ]
  },
  {
   "cell_type": "code",
   "execution_count": 6,
   "metadata": {},
   "outputs": [
    {
     "name": "stdout",
     "output_type": "stream",
     "text": [
      "result is 2.0\n",
      "executing finally clause\n"
     ]
    }
   ],
   "source": [
    "def divide(x, y):\n",
    "    try:\n",
    "        result = x / y\n",
    "        print(\"result is\", result)\n",
    "    except ZeroDivisionError:\n",
    "        print(\"division by zero!\")\n",
    "    finally:\n",
    "        print(\"executing finally clause\")\n",
    "\n",
    "divide(2,1)"
   ]
  },
  {
   "cell_type": "code",
   "execution_count": 7,
   "metadata": {},
   "outputs": [
    {
     "name": "stdout",
     "output_type": "stream",
     "text": [
      "division by zero!\n",
      "executing finally clause\n"
     ]
    }
   ],
   "source": [
    "divide(2,0)"
   ]
  },
  {
   "cell_type": "code",
   "execution_count": 8,
   "metadata": {},
   "outputs": [
    {
     "name": "stdout",
     "output_type": "stream",
     "text": [
      "executing finally clause\n"
     ]
    },
    {
     "ename": "TypeError",
     "evalue": "unsupported operand type(s) for /: 'str' and 'str'",
     "output_type": "error",
     "traceback": [
      "\u001b[0;31m---------------------------------------------------------------------------\u001b[0m",
      "\u001b[0;31mTypeError\u001b[0m                                 Traceback (most recent call last)",
      "\u001b[0;32m<ipython-input-8-3e0cebdb37b4>\u001b[0m in \u001b[0;36m<module>\u001b[0;34m\u001b[0m\n\u001b[0;32m----> 1\u001b[0;31m \u001b[0mdivide\u001b[0m\u001b[0;34m(\u001b[0m\u001b[0;34m'2'\u001b[0m\u001b[0;34m,\u001b[0m\u001b[0;34m'1'\u001b[0m\u001b[0;34m)\u001b[0m\u001b[0;34m\u001b[0m\u001b[0;34m\u001b[0m\u001b[0m\n\u001b[0m",
      "\u001b[0;32m<ipython-input-6-7bf242cc2a8e>\u001b[0m in \u001b[0;36mdivide\u001b[0;34m(x, y)\u001b[0m\n\u001b[1;32m      1\u001b[0m \u001b[0;32mdef\u001b[0m \u001b[0mdivide\u001b[0m\u001b[0;34m(\u001b[0m\u001b[0mx\u001b[0m\u001b[0;34m,\u001b[0m \u001b[0my\u001b[0m\u001b[0;34m)\u001b[0m\u001b[0;34m:\u001b[0m\u001b[0;34m\u001b[0m\u001b[0;34m\u001b[0m\u001b[0m\n\u001b[1;32m      2\u001b[0m     \u001b[0;32mtry\u001b[0m\u001b[0;34m:\u001b[0m\u001b[0;34m\u001b[0m\u001b[0;34m\u001b[0m\u001b[0m\n\u001b[0;32m----> 3\u001b[0;31m         \u001b[0mresult\u001b[0m \u001b[0;34m=\u001b[0m \u001b[0mx\u001b[0m \u001b[0;34m/\u001b[0m \u001b[0my\u001b[0m\u001b[0;34m\u001b[0m\u001b[0;34m\u001b[0m\u001b[0m\n\u001b[0m\u001b[1;32m      4\u001b[0m         \u001b[0mprint\u001b[0m\u001b[0;34m(\u001b[0m\u001b[0;34m\"result is\"\u001b[0m\u001b[0;34m,\u001b[0m \u001b[0mresult\u001b[0m\u001b[0;34m)\u001b[0m\u001b[0;34m\u001b[0m\u001b[0;34m\u001b[0m\u001b[0m\n\u001b[1;32m      5\u001b[0m     \u001b[0;32mexcept\u001b[0m \u001b[0mZeroDivisionError\u001b[0m\u001b[0;34m:\u001b[0m\u001b[0;34m\u001b[0m\u001b[0;34m\u001b[0m\u001b[0m\n",
      "\u001b[0;31mTypeError\u001b[0m: unsupported operand type(s) for /: 'str' and 'str'"
     ]
    }
   ],
   "source": [
    "divide('2','1')"
   ]
  },
  {
   "cell_type": "markdown",
   "metadata": {},
   "source": [
    "## try - except - else 语句"
   ]
  },
  {
   "cell_type": "code",
   "execution_count": null,
   "metadata": {},
   "outputs": [],
   "source": [
    "try:\n",
    "    检测范围\n",
    "except(Exception1[, Exception2[,...ExceptionN]]]):\n",
    "   发生以上多个异常中的一个，执行这块代码\n",
    "else:\n",
    "    如果没有异常执行这块代码"
   ]
  },
  {
   "cell_type": "code",
   "execution_count": null,
   "metadata": {},
   "outputs": [],
   "source": [
    "try:\n",
    "    fh = open(\"testfile\", \"w\")\n",
    "    fh.write(\"这是一个测试文件，用于测试异常!!\")\n",
    "except IOError:\n",
    "    print(\"Error: 没有找到文件或读取文件失败\")\n",
    "else:\n",
    "    print(\"内容写入文件成功\")\n",
    "    fh.close()\n",
    "\n",
    "# 内容写入文件成功"
   ]
  },
  {
   "cell_type": "markdown",
   "metadata": {},
   "source": [
    "注意：`else`语句的存在必须以`except`语句的存在为前提，在没有`except`语句的`try`语句中使用`else`语句，会引发语法错误。"
   ]
  },
  {
   "cell_type": "markdown",
   "metadata": {},
   "source": [
    "## raise语句"
   ]
  },
  {
   "cell_type": "markdown",
   "metadata": {},
   "source": [
    "python使用raise语句 返回一个指定的异常"
   ]
  },
  {
   "cell_type": "code",
   "execution_count": 9,
   "metadata": {},
   "outputs": [
    {
     "name": "stdout",
     "output_type": "stream",
     "text": [
      "An exception flew by!\n"
     ]
    }
   ],
   "source": [
    "try:\n",
    "    raise NameError('HiThere')    #指定异常为NameError\n",
    "except NameError:\n",
    "    print('An exception flew by!')"
   ]
  },
  {
   "cell_type": "markdown",
   "metadata": {},
   "source": [
    "[参考文档](https://www.runoob.com/python/python-exceptions.html)"
   ]
  },
  {
   "cell_type": "markdown",
   "metadata": {},
   "source": [
    "## 练习题"
   ]
  },
  {
   "cell_type": "markdown",
   "metadata": {},
   "source": [
    "猜数字游戏\n",
    "\n",
    "题目描述:\n",
    "\n",
    "电脑产生一个零到100之间的随机数字，然后让用户来猜，如果用户猜的数字比这个数字大，提示太大，否则提示太小，当用户正好猜中电脑会提示，\"恭喜你猜到了这个数是......\"。在用户每次猜测之前程序会输出用户是第几次猜测，如果用户输入的根本不是一个数字，程序会告诉用户\"输入无效\"。\n",
    "\n",
    "(尝试使用try catch异常处理结构对输入情况进行处理)\n",
    "\n",
    "获取随机数采用random模块。"
   ]
  },
  {
   "cell_type": "code",
   "execution_count": 2,
   "metadata": {},
   "outputs": [],
   "source": [
    "import random  #导入ramdom模块"
   ]
  },
  {
   "cell_type": "code",
   "execution_count": 19,
   "metadata": {},
   "outputs": [
    {
     "name": "stdin",
     "output_type": "stream",
     "text": [
      "请输入0-100之间的整数 20\n"
     ]
    },
    {
     "name": "stdout",
     "output_type": "stream",
     "text": [
      "这是你第1次猜测\n",
      "你输入的数字太小\n",
      "------------------------------------------------------------\n"
     ]
    },
    {
     "name": "stdin",
     "output_type": "stream",
     "text": [
      "请输入0-100之间的整数 30\n"
     ]
    },
    {
     "name": "stdout",
     "output_type": "stream",
     "text": [
      "这是你第2次猜测\n",
      "你输入的数字太小\n",
      "------------------------------------------------------------\n"
     ]
    },
    {
     "name": "stdin",
     "output_type": "stream",
     "text": [
      "请输入0-100之间的整数 40\n"
     ]
    },
    {
     "name": "stdout",
     "output_type": "stream",
     "text": [
      "这是你第3次猜测\n",
      "你输入的数字太小\n",
      "------------------------------------------------------------\n"
     ]
    },
    {
     "name": "stdin",
     "output_type": "stream",
     "text": [
      "请输入0-100之间的整数 50\n"
     ]
    },
    {
     "name": "stdout",
     "output_type": "stream",
     "text": [
      "这是你第4次猜测\n",
      "你输入的数字太小\n",
      "------------------------------------------------------------\n"
     ]
    },
    {
     "name": "stdin",
     "output_type": "stream",
     "text": [
      "请输入0-100之间的整数 60\n"
     ]
    },
    {
     "name": "stdout",
     "output_type": "stream",
     "text": [
      "这是你第5次猜测\n",
      "你输入的数字太小\n",
      "------------------------------------------------------------\n"
     ]
    },
    {
     "name": "stdin",
     "output_type": "stream",
     "text": [
      "请输入0-100之间的整数 70\n"
     ]
    },
    {
     "name": "stdout",
     "output_type": "stream",
     "text": [
      "这是你第6次猜测\n",
      "你输入的数字太小\n",
      "------------------------------------------------------------\n"
     ]
    },
    {
     "name": "stdin",
     "output_type": "stream",
     "text": [
      "请输入0-100之间的整数 80\n"
     ]
    },
    {
     "name": "stdout",
     "output_type": "stream",
     "text": [
      "这是你第7次猜测\n",
      "你输入的数字太小\n",
      "------------------------------------------------------------\n"
     ]
    },
    {
     "name": "stdin",
     "output_type": "stream",
     "text": [
      "请输入0-100之间的整数 90\n"
     ]
    },
    {
     "name": "stdout",
     "output_type": "stream",
     "text": [
      "这是你第8次猜测\n",
      "你输入的数字太小\n",
      "------------------------------------------------------------\n"
     ]
    },
    {
     "name": "stdin",
     "output_type": "stream",
     "text": [
      "请输入0-100之间的整数 95\n"
     ]
    },
    {
     "name": "stdout",
     "output_type": "stream",
     "text": [
      "这是你第9次猜测\n",
      "恭喜你猜到了，这个数字是：95\n",
      "恭喜你经过9次猜测完成任务\n"
     ]
    }
   ],
   "source": [
    "num = random.randint(0,101)  # 随机产生0-100范围内的整数\n",
    "guess_num = 1\n",
    "\n",
    "while True:\n",
    "    try:\n",
    "        input_num = int(input('请输入0-100之间的整数'))\n",
    "        print(f'这是你第{guess_num}次猜测')\n",
    "        if num > input_num:\n",
    "            print('你输入的数字太小')\n",
    "            print('------'*10)\n",
    "        elif num < input_num:\n",
    "            print('你输入的数字太大')\n",
    "            print('------'*10)\n",
    "        else:\n",
    "            print(f'恭喜你猜到了，这个数字是：{input_num}')\n",
    "            print(f'恭喜你经过{guess_num}次猜测完成任务')\n",
    "            break \n",
    "        guess_num += 1\n",
    "    except ValueError:\n",
    "        print('输入无效')"
   ]
  },
  {
   "cell_type": "code",
   "execution_count": null,
   "metadata": {},
   "outputs": [],
   "source": []
  }
 ],
 "metadata": {
  "kernelspec": {
   "display_name": "Python 3",
   "language": "python",
   "name": "python3"
  },
  "language_info": {
   "codemirror_mode": {
    "name": "ipython",
    "version": 3
   },
   "file_extension": ".py",
   "mimetype": "text/x-python",
   "name": "python",
   "nbconvert_exporter": "python",
   "pygments_lexer": "ipython3",
   "version": "3.7.6"
  }
 },
 "nbformat": 4,
 "nbformat_minor": 4
}
