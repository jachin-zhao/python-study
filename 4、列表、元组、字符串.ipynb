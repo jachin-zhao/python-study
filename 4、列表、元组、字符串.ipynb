{
 "cells": [
  {
   "cell_type": "markdown",
   "metadata": {},
   "source": [
    "# 列表、元组、字符串"
   ]
  },
  {
   "cell_type": "markdown",
   "metadata": {
    "toc-hr-collapsed": true,
    "toc-nb-collapsed": true
   },
   "source": [
    "## 列表"
   ]
  },
  {
   "cell_type": "markdown",
   "metadata": {},
   "source": [
    "### 简单数据类型"
   ]
  },
  {
   "cell_type": "markdown",
   "metadata": {},
   "source": [
    "1、整型\n",
    "2、浮点型\n",
    "3、布尔型"
   ]
  },
  {
   "cell_type": "markdown",
   "metadata": {},
   "source": [
    "### 容器数据类型"
   ]
  },
  {
   "cell_type": "markdown",
   "metadata": {},
   "source": [
    "#### 列表"
   ]
  },
  {
   "cell_type": "markdown",
   "metadata": {},
   "source": [
    "列表的格式为‘[]’，可以通过函数进行列表的操作"
   ]
  },
  {
   "cell_type": "code",
   "execution_count": 9,
   "metadata": {},
   "outputs": [
    {
     "name": "stdout",
     "output_type": "stream",
     "text": [
      "4\n",
      "5\n",
      "2\n",
      "[3, 4, 5, 6]\n"
     ]
    }
   ],
   "source": [
    "list1 = [2,3,4,5]\n",
    "list2 = (3,4,5,6)\n",
    "print(len(list1)) #列表元素个数\n",
    "print(max(list1)) #返回列表元素最大值\n",
    "print(min(list1)) #返回列表元素最小值\n",
    "print(list(list2)) #将元组转换为列表"
   ]
  },
  {
   "cell_type": "code",
   "execution_count": 23,
   "metadata": {},
   "outputs": [
    {
     "name": "stdout",
     "output_type": "stream",
     "text": [
      "[0, 1, 2, 3, 4, 5, 6, 7, 8, 9]\n"
     ]
    }
   ],
   "source": [
    "#创建列表\n",
    "#利用range（）创建列表\n",
    "x = list(range(10))\n",
    "print(x)"
   ]
  },
  {
   "cell_type": "markdown",
   "metadata": {},
   "source": [
    "##### 添加元素"
   ]
  },
  {
   "cell_type": "code",
   "execution_count": 25,
   "metadata": {},
   "outputs": [
    {
     "data": {
      "text/plain": [
       "[0, 1, 2, 3, 4, 5, 6, 7, 8, 9, 7, 'asd']"
      ]
     },
     "execution_count": 25,
     "metadata": {},
     "output_type": "execute_result"
    }
   ],
   "source": [
    "x.append('asd')\n",
    "x"
   ]
  },
  {
   "cell_type": "code",
   "execution_count": 35,
   "metadata": {},
   "outputs": [
    {
     "name": "stdout",
     "output_type": "stream",
     "text": [
      "['Monday', 'Tuesday', 'Wednesday', 'Thursday', 'Friday', ['Thursday', 'Sunday']] 6\n"
     ]
    }
   ],
   "source": [
    "'''\n",
    "此元素如果是一个 list，\n",
    "那么这个 list 将作为一个整体进行追加，\n",
    "注意`append()`和`extend()`的区别。\n",
    "'''\n",
    "\n",
    "x = ['Monday', 'Tuesday', 'Wednesday', 'Thursday', 'Friday']\n",
    "x.append(['Thursday', 'Sunday'])\n",
    "print(x,len(x))"
   ]
  },
  {
   "cell_type": "code",
   "execution_count": 34,
   "metadata": {},
   "outputs": [
    {
     "name": "stdout",
     "output_type": "stream",
     "text": [
      "['Monday', 'Tuesday', 'Wednesday', 'Thursday', 'Friday', 'Thursday', 'Sunday'] 7\n"
     ]
    }
   ],
   "source": [
    "#`list.extend(seq)` \n",
    "# 在列表末尾一次性追加另一个序列中的多个值（用新列表扩展原来的列表）\n",
    "\n",
    "x = ['Monday', 'Tuesday', 'Wednesday', 'Thursday', 'Friday']\n",
    "x.extend(['Thursday', 'Sunday'])\n",
    "print(x,len(x))"
   ]
  },
  {
   "cell_type": "markdown",
   "metadata": {},
   "source": [
    "##### 插入"
   ]
  },
  {
   "cell_type": "code",
   "execution_count": 36,
   "metadata": {},
   "outputs": [
    {
     "data": {
      "text/plain": [
       "['Monday', 'Tuesday', 'Sunday', 'Wednesday', 'Thursday', 'Friday']"
      ]
     },
     "execution_count": 36,
     "metadata": {},
     "output_type": "execute_result"
    }
   ],
   "source": [
    "#使用insert（）函数\n",
    "x = ['Monday', 'Tuesday', 'Wednesday', 'Thursday', 'Friday']\n",
    "x.insert(2, 'Sunday') #在 2 号位置插入‘Sunday’ 字符\n",
    "x"
   ]
  },
  {
   "cell_type": "markdown",
   "metadata": {},
   "source": [
    "##### 删除"
   ]
  },
  {
   "cell_type": "code",
   "execution_count": 39,
   "metadata": {},
   "outputs": [
    {
     "data": {
      "text/plain": [
       "['Tuesday', 'Wednesday', 'Thursday', 'Friday']"
      ]
     },
     "execution_count": 39,
     "metadata": {},
     "output_type": "execute_result"
    }
   ],
   "source": [
    "# 使用remove（obj）函数，删除具体的元素\n",
    "x = ['Monday', 'Tuesday', 'Wednesday', 'Thursday', 'Friday']\n",
    "x.remove('Monday') \n",
    "x"
   ]
  },
  {
   "cell_type": "code",
   "execution_count": 47,
   "metadata": {},
   "outputs": [
    {
     "data": {
      "text/plain": [
       "['Monday', 'Tuesday', 'Thursday', 'Friday']"
      ]
     },
     "execution_count": 47,
     "metadata": {},
     "output_type": "execute_result"
    }
   ],
   "source": [
    "#使用pop（）函数移除指定位置的数据\n",
    "x = ['Monday', 'Tuesday', 'Wednesday', 'Thursday', 'Friday']\n",
    "x.pop(2) #移除列表中的一个元素，默认为最后一个\n",
    "x   "
   ]
  },
  {
   "cell_type": "code",
   "execution_count": 50,
   "metadata": {},
   "outputs": [
    {
     "data": {
      "text/plain": [
       "['Friday']"
      ]
     },
     "execution_count": 50,
     "metadata": {},
     "output_type": "execute_result"
    }
   ],
   "source": [
    "#使用del（）函数删除多个元素\n",
    "x = ['Monday', 'Tuesday', 'Wednesday', 'Thursday', 'Friday']\n",
    "#del x[0:4]   #删除0，1，2，3 四个元素\n",
    "del x[:4]\n",
    "x"
   ]
  },
  {
   "cell_type": "markdown",
   "metadata": {},
   "source": [
    "##### 获取元素"
   ]
  },
  {
   "cell_type": "code",
   "execution_count": 51,
   "metadata": {},
   "outputs": [
    {
     "name": "stdout",
     "output_type": "stream",
     "text": [
      "['Thursday', 'Friday']\n",
      "['Wednesday', 'Thursday', 'Friday']\n"
     ]
    }
   ],
   "source": [
    "#利用切片获取元素信息\n",
    "x = ['Monday', 'Tuesday', 'Wednesday', 'Thursday', 'Friday']\n",
    "print(x[3:])  # ['Thursday', 'Friday']\n",
    "print(x[-3:])  # ['Wednesday', 'Thursday', 'Friday']"
   ]
  },
  {
   "cell_type": "markdown",
   "metadata": {},
   "source": [
    "#### 列表的常用操作符"
   ]
  },
  {
   "cell_type": "markdown",
   "metadata": {},
   "source": [
    "- 等号操作符：`==`\n",
    "- 连接操作符 `+`\n",
    "- 重复操作符 `*`\n",
    "- 成员关系操作符 `in`、`not in`"
   ]
  },
  {
   "cell_type": "markdown",
   "metadata": {},
   "source": [
    "#### 列表的其他方法"
   ]
  },
  {
   "cell_type": "markdown",
   "metadata": {},
   "source": [
    "##### 统计某元素列表中出现的次数"
   ]
  },
  {
   "cell_type": "code",
   "execution_count": 53,
   "metadata": {},
   "outputs": [
    {
     "name": "stdout",
     "output_type": "stream",
     "text": [
      "5\n"
     ]
    }
   ],
   "source": [
    "#使用count(obj)函数\n",
    "list3 = [1,1,1,1,1,2,3,4]\n",
    "print(list3.count(1))  #需要输入需要统计数量的元素"
   ]
  },
  {
   "cell_type": "markdown",
   "metadata": {},
   "source": [
    "##### 反向列表中的元素"
   ]
  },
  {
   "cell_type": "code",
   "execution_count": 55,
   "metadata": {},
   "outputs": [
    {
     "data": {
      "text/plain": [
       "[123, 678, 234]"
      ]
     },
     "execution_count": 55,
     "metadata": {},
     "output_type": "execute_result"
    }
   ],
   "source": [
    "# 使用 reverse（）函数\n",
    "list4 = [234,678,123]\n",
    "list4.reverse() #直接在原数据上进行更改\n",
    "list4"
   ]
  },
  {
   "cell_type": "markdown",
   "metadata": {},
   "source": [
    "##### 对列表进行排序"
   ]
  },
  {
   "cell_type": "code",
   "execution_count": 57,
   "metadata": {},
   "outputs": [
    {
     "data": {
      "text/plain": [
       "[9, 8, 7, 6, 3, 3, 2, 2, 1, 1]"
      ]
     },
     "execution_count": 57,
     "metadata": {},
     "output_type": "execute_result"
    }
   ],
   "source": [
    "#使用sort（key=None, reverse=False）函数\n",
    "list5 = [1,2,6,3,7,1,3,8,2,9]\n",
    "list5.sort(reverse=True)    #`reverse = True` 降序，`.= False` 升序（默认）\n",
    "list5"
   ]
  },
  {
   "cell_type": "markdown",
   "metadata": {},
   "source": [
    "#### 练习题"
   ]
  },
  {
   "cell_type": "code",
   "execution_count": 71,
   "metadata": {},
   "outputs": [
    {
     "data": {
      "text/plain": [
       "[2, 5, 6, 7, 8, 9, 2, 9, 9, 15]"
      ]
     },
     "execution_count": 71,
     "metadata": {},
     "output_type": "execute_result"
    }
   ],
   "source": [
    "lst = [2, 5, 6, 7, 8, 9, 2, 9, 9]\n",
    "#1. 在列表的末尾增加元素15\n",
    "lst.append(15)\n",
    "lst"
   ]
  },
  {
   "cell_type": "code",
   "execution_count": 73,
   "metadata": {},
   "outputs": [
    {
     "data": {
      "text/plain": [
       "[2, 5, 6, 7, 20, 8, 9, 2, 9, 9]"
      ]
     },
     "execution_count": 73,
     "metadata": {},
     "output_type": "execute_result"
    }
   ],
   "source": [
    "lst1 = [2, 5, 6, 7, 8, 9, 2, 9, 9]\n",
    "#2. 在列表的中间位置插入元素20\n",
    "lst1.insert(4,20)\n",
    "lst1"
   ]
  },
  {
   "cell_type": "code",
   "execution_count": 74,
   "metadata": {},
   "outputs": [
    {
     "data": {
      "text/plain": [
       "[2, 5, 6, 7, 8, 9, 2, 9, 9, [2, 5, 6]]"
      ]
     },
     "execution_count": 74,
     "metadata": {},
     "output_type": "execute_result"
    }
   ],
   "source": [
    "lst2 = [2, 5, 6, 7, 8, 9, 2, 9, 9]\n",
    "#3. 将列表[2, 5, 6]合并到lst中\n",
    "lst2.append([2,5,6])\n",
    "lst2"
   ]
  },
  {
   "cell_type": "code",
   "execution_count": 78,
   "metadata": {},
   "outputs": [
    {
     "data": {
      "text/plain": [
       "[2, 5, 6, 8, 9, 2, 9, 9]"
      ]
     },
     "execution_count": 78,
     "metadata": {},
     "output_type": "execute_result"
    }
   ],
   "source": [
    "lst3 = [2, 5, 6, 7, 8, 9, 2, 9, 9]\n",
    "#4. 移除列表中索引为3的元素\n",
    "lst3.pop(3)\n",
    "lst3"
   ]
  },
  {
   "cell_type": "code",
   "execution_count": 79,
   "metadata": {},
   "outputs": [
    {
     "data": {
      "text/plain": [
       "[9, 9, 2, 9, 8, 7, 6, 5, 2]"
      ]
     },
     "execution_count": 79,
     "metadata": {},
     "output_type": "execute_result"
    }
   ],
   "source": [
    "lst4 = [2, 5, 6, 7, 8, 9, 2, 9, 9]\n",
    "#5. 翻转列表里的所有元素\n",
    "lst4.reverse()\n",
    "lst4"
   ]
  },
  {
   "cell_type": "code",
   "execution_count": 81,
   "metadata": {},
   "outputs": [
    {
     "data": {
      "text/plain": [
       "[9, 9, 9, 8, 7, 6, 5, 2, 2]"
      ]
     },
     "execution_count": 81,
     "metadata": {},
     "output_type": "execute_result"
    }
   ],
   "source": [
    "lst5 = [2, 5, 6, 7, 8, 9, 2, 9, 9]\n",
    "#6. 对列表里的元素进行排序，从小到大一次，从大到小一次\n",
    "lst5.sort(reverse=True) #从大到小\n",
    "lst5"
   ]
  },
  {
   "cell_type": "code",
   "execution_count": 82,
   "metadata": {},
   "outputs": [
    {
     "data": {
      "text/plain": [
       "[2, 2, 5, 6, 7, 8, 9, 9, 9]"
      ]
     },
     "execution_count": 82,
     "metadata": {},
     "output_type": "execute_result"
    }
   ],
   "source": [
    "lst6 = [2, 5, 6, 7, 8, 9, 2, 9, 9]\n",
    "#6. 对列表里的元素进行排序，从小到大一次，从大到小一次\n",
    "lst6.sort(reverse=False) #从大到小\n",
    "lst6"
   ]
  },
  {
   "cell_type": "code",
   "execution_count": 87,
   "metadata": {},
   "outputs": [
    {
     "data": {
      "text/plain": [
       "[1, [4, 6], True, 1, [4, 6], True, 1, [4, 6], True, 1, [4, 6], True]"
      ]
     },
     "execution_count": 87,
     "metadata": {},
     "output_type": "execute_result"
    }
   ],
   "source": [
    "lst7 = [1, [4, 6], True]\n",
    "\n",
    "#请将列表里所有数字修改成原来的两倍\n",
    "lst7 = lst * 2\n",
    "lst7"
   ]
  },
  {
   "cell_type": "markdown",
   "metadata": {
    "toc-hr-collapsed": true,
    "toc-nb-collapsed": true
   },
   "source": [
    "## 元组"
   ]
  },
  {
   "cell_type": "markdown",
   "metadata": {},
   "source": [
    "元组的定义格式 （元素1，元素2，。。。）\n",
    "\n",
    "元组创建后不允许进行更改，因此元组拥有比列表更小的存储空间\n",
    "\n",
    "元素可以和列表一样，进行索引（indexing）和切片（slicing）"
   ]
  },
  {
   "cell_type": "markdown",
   "metadata": {},
   "source": [
    "### 创建一个元组"
   ]
  },
  {
   "cell_type": "code",
   "execution_count": 1,
   "metadata": {},
   "outputs": [
    {
     "name": "stdout",
     "output_type": "stream",
     "text": [
      "<class 'int'>\n",
      "<class 'tuple'>\n"
     ]
    }
   ],
   "source": [
    "# 当元组中只有一个元素时，需要在元素后面加上逗号，否则括号会被当作运算符使用\n",
    "y = (1)\n",
    "print(type(y))\n",
    "z = (1,)    #加上一个逗号，类型就变成了tuple格式\n",
    "print(type(z))"
   ]
  },
  {
   "cell_type": "code",
   "execution_count": 5,
   "metadata": {},
   "outputs": [
    {
     "name": "stdout",
     "output_type": "stream",
     "text": [
      "((1, 2.34, 'python'), ('data', 222))\n",
      "(1, 2.34, 'python')\n",
      "pyt\n",
      "('data', 222)\n",
      "d\n"
     ]
    }
   ],
   "source": [
    "# 创建二维元组\n",
    "y1 = (1,2.34,'python'),('data',222)\n",
    "print(y1)\n",
    "print(y1[0])\n",
    "print(y1[0][2][0:3])\n",
    "print(y1[1])\n",
    "print(y1[1][0][0:1])"
   ]
  },
  {
   "cell_type": "markdown",
   "metadata": {},
   "source": [
    "### 更新和删除一个元组"
   ]
  },
  {
   "cell_type": "code",
   "execution_count": 6,
   "metadata": {},
   "outputs": [
    {
     "data": {
      "text/plain": [
       "('one', 'two', 'three', 'four', 'five', 'six')"
      ]
     },
     "execution_count": 6,
     "metadata": {},
     "output_type": "execute_result"
    }
   ],
   "source": [
    "eg = ('one','two','three','five','six')\n",
    "eg = eg[0:3] + ('four',) + eg[3:]\n",
    "eg"
   ]
  },
  {
   "cell_type": "markdown",
   "metadata": {},
   "source": [
    "### 元组相关的操作符"
   ]
  },
  {
   "cell_type": "markdown",
   "metadata": {},
   "source": [
    "- 等号操作符：`==`\n",
    "- 连接操作符 `+`\n",
    "- 重复操作符 `*`\n",
    "- 成员关系操作符 `in`、`not in`"
   ]
  },
  {
   "cell_type": "markdown",
   "metadata": {},
   "source": [
    "### 内置方法"
   ]
  },
  {
   "cell_type": "markdown",
   "metadata": {},
   "source": [
    "元组大小和内容都不可更改，因此只有 `count` 和 `index` 两种方法，比较简单"
   ]
  },
  {
   "cell_type": "code",
   "execution_count": 9,
   "metadata": {},
   "outputs": [
    {
     "name": "stdout",
     "output_type": "stream",
     "text": [
      "2\n",
      "3\n"
     ]
    }
   ],
   "source": [
    "eg1 = ('one','two','two','five','six')\n",
    "print(eg1.count('two'))     #使用count（）函数记录元组中某一元素出现的次数\n",
    "print(eg1.index('five'))"
   ]
  },
  {
   "cell_type": "markdown",
   "metadata": {},
   "source": [
    "### 解压元组"
   ]
  },
  {
   "cell_type": "code",
   "execution_count": 5,
   "metadata": {},
   "outputs": [
    {
     "name": "stdout",
     "output_type": "stream",
     "text": [
      "1 10.31 python\n"
     ]
    }
   ],
   "source": [
    "t = (1, 10.31, 'python')\n",
    "(a, b, c) = t\n",
    "print(a, b, c)"
   ]
  },
  {
   "cell_type": "code",
   "execution_count": 9,
   "metadata": {},
   "outputs": [
    {
     "name": "stdout",
     "output_type": "stream",
     "text": [
      "1\n",
      "[2, 3, 4, 5]\n"
     ]
    }
   ],
   "source": [
    "t = (1, 2, 3, 4, 5)\n",
    "a,*xxx = t   \n",
    "print(a)\n",
    "print(xxx)"
   ]
  },
  {
   "cell_type": "markdown",
   "metadata": {},
   "source": [
    "### 练习题"
   ]
  },
  {
   "cell_type": "code",
   "execution_count": 4,
   "metadata": {},
   "outputs": [
    {
     "name": "stdout",
     "output_type": "stream",
     "text": [
      "(1, 2, 1, 2)\n",
      "<class 'tuple'>\n",
      "(1, 1)\n",
      "<class 'int'>\n",
      "2\n"
     ]
    }
   ],
   "source": [
    "# 写出下面代码的执行结果和最终结果的类型\n",
    "x = (1,2)    #元组\n",
    "print(x * 2)\n",
    "y = (1,)     #元组\n",
    "print(type(y))\n",
    "print(y * 2)\n",
    "z = (1)      #不是一个元组,只是一个整数\n",
    "print(type(z))\n",
    "print(z * 2)"
   ]
  },
  {
   "cell_type": "markdown",
   "metadata": {},
   "source": [
    "## 字符串"
   ]
  },
  {
   "cell_type": "markdown",
   "metadata": {},
   "source": [
    "使用''或\"\"进行定义\n",
    "> 应该先介绍字符串"
   ]
  },
  {
   "cell_type": "code",
   "execution_count": 19,
   "metadata": {},
   "outputs": [
    {
     "name": "stdout",
     "output_type": "stream",
     "text": [
      "hello python <class 'str'>\n"
     ]
    }
   ],
   "source": [
    "t = 'hello python'\n",
    "print(t, type(t))"
   ]
  },
  {
   "cell_type": "markdown",
   "metadata": {},
   "source": [
    "### python中常用的转义字符"
   ]
  },
  {
   "cell_type": "markdown",
   "metadata": {},
   "source": [
    "| 转义字符 | 描述            |\n",
    "| :------: | --------------- |\n",
    "|   `\\\\`   | 反斜杠符号      |\n",
    "|   `\\'`   | 单引号          |\n",
    "|   `\\\"`   | 双引号          |\n",
    "|   `\\n`   | 换行            |\n",
    "|   `\\t`   | 横向制表符(TAB) |\n",
    "|   `\\r`   | 回车            |"
   ]
  },
  {
   "cell_type": "markdown",
   "metadata": {},
   "source": [
    "原始字符串只需要在字符串前边加一个英文字母 r 即可。"
   ]
  },
  {
   "cell_type": "code",
   "execution_count": 28,
   "metadata": {},
   "outputs": [
    {
     "name": "stdout",
     "output_type": "stream",
     "text": [
      "\n",
      "这是一个例子\n",
      "向我们展示三引号的作用，\n",
      "可以使用换行符和其他的转义字符\n",
      "\n"
     ]
    }
   ],
   "source": [
    "#关于''''''\n",
    "#'''''' 可以用作注释，同时还可以允许一个字符串跨多行，字符串中何以包含转义字符\n",
    "text = '''\n",
    "这是一个例子\n",
    "向我们展示三引号的作用，\\n可以使用换行符和其他的转义字符\n",
    "'''\n",
    "print(text)"
   ]
  },
  {
   "cell_type": "markdown",
   "metadata": {},
   "source": [
    "### 字符串的切片与拼接"
   ]
  },
  {
   "cell_type": "markdown",
   "metadata": {},
   "source": [
    "不同于元组的不可修改，字符串可以进行相应的修改\n",
    "\n",
    "当然，其实序号还是从0开始"
   ]
  },
  {
   "cell_type": "code",
   "execution_count": 34,
   "metadata": {},
   "outputs": [
    {
     "name": "stdout",
     "output_type": "stream",
     "text": [
      "hello p\n",
      "lo python\n",
      "llo pyt\n",
      "hello pytho\n",
      "n\n"
     ]
    }
   ],
   "source": [
    "str = 'hello python'\n",
    "print(str[:7])\n",
    "print(str[3:])\n",
    "print(str[2:9])\n",
    "print(str[:-1])\n",
    "print(str[-1])"
   ]
  },
  {
   "cell_type": "markdown",
   "metadata": {},
   "source": [
    "### 字符串常用的内置方法"
   ]
  },
  {
   "cell_type": "markdown",
   "metadata": {},
   "source": [
    "#### 转换大小写"
   ]
  },
  {
   "cell_type": "markdown",
   "metadata": {},
   "source": [
    "- `capitalize()` 将字符串的第一个字符转换为大写。\n",
    "- `lower()` 转换字符串中所有大写字符为小写。\n",
    "- `upper()` 转换字符串中的小写字母为大写。\n",
    "- `swapcase()` 将字符串中大写转换为小写，小写转换为大写。"
   ]
  },
  {
   "cell_type": "markdown",
   "metadata": {},
   "source": [
    "这些函数全部都是字符串内部含有的函数"
   ]
  },
  {
   "cell_type": "code",
   "execution_count": 40,
   "metadata": {},
   "outputs": [
    {
     "name": "stdout",
     "output_type": "stream",
     "text": [
      "Hello python\n",
      "HELLO PYTHON\n",
      "hello PYTHON\n",
      "hello python\n"
     ]
    }
   ],
   "source": [
    "str1 = 'HELLO python'\n",
    "print(str1.capitalize())   #将字符串的第一个字符转换为大写   \n",
    "print(str1.upper())        #全部转换为大写\n",
    "print(str1.swapcase())     #大写转换为小写，小写转换为大写\n",
    "print(str1.lower())        #全部转换为小写"
   ]
  },
  {
   "cell_type": "markdown",
   "metadata": {},
   "source": [
    "#### 计数函数"
   ]
  },
  {
   "cell_type": "code",
   "execution_count": 55,
   "metadata": {},
   "outputs": [
    {
     "name": "stdout",
     "output_type": "stream",
     "text": [
      "2\n",
      "0\n"
     ]
    }
   ],
   "source": [
    "#记录字符串中某个str出现的次数\n",
    "str2 = 'hello python'\n",
    "print(str2.count('h'))\n",
    "print(str2.count('0'))"
   ]
  },
  {
   "cell_type": "markdown",
   "metadata": {},
   "source": [
    "#### 检测函数"
   ]
  },
  {
   "cell_type": "code",
   "execution_count": 65,
   "metadata": {},
   "outputs": [
    {
     "name": "stdout",
     "output_type": "stream",
     "text": [
      "False\n",
      "True\n",
      "False\n",
      "True\n",
      "False\n"
     ]
    }
   ],
   "source": [
    "#endswith  检查字符串的结尾是否和指定的一样\n",
    "#startswith    检查字符串的开头是否和指定的一样\n",
    "\n",
    "str2 = 'hello python'\n",
    "print(str2.endswith('on',0,6))\n",
    "print(str2.endswith('on'))\n",
    "print(str2.endswith('no'))\n",
    "print(str2.startswith('he'))\n",
    "print(str2.startswith('eh'))"
   ]
  },
  {
   "cell_type": "code",
   "execution_count": 66,
   "metadata": {},
   "outputs": [
    {
     "name": "stdout",
     "output_type": "stream",
     "text": [
      "5\n",
      "18\n"
     ]
    }
   ],
   "source": [
    "#find() 检查str是否包含在字符产中\n",
    "#rfind()  从右开始检查str是否包含在字符串中\n",
    "str3 = 'asssshjkllkjhgfdsa'\n",
    "print(str3.find('h',0,len(str3)))   #如果存在，则返回索引值\n",
    "print(len(str3))"
   ]
  },
  {
   "cell_type": "code",
   "execution_count": 67,
   "metadata": {},
   "outputs": [
    {
     "name": "stdout",
     "output_type": "stream",
     "text": [
      "True\n"
     ]
    }
   ],
   "source": [
    "#ismuneric() 函数，检测str中是否只包含有数字\n",
    "str4 = '1234'\n",
    "print(str4.isnumeric())"
   ]
  },
  {
   "cell_type": "markdown",
   "metadata": {},
   "source": [
    "#### 处理函数"
   ]
  },
  {
   "cell_type": "markdown",
   "metadata": {},
   "source": [
    "- `ljust(width[, fillchar])`返回一个原字符串左对齐，并使用`fillchar`（默认空格）填充至长度`width`的新字符串。\n",
    "- `rjust(width[, fillchar])`返回一个原字符串右对齐，并使用`fillchar`（默认空格）填充至长度`width`的新字符串。"
   ]
  },
  {
   "cell_type": "code",
   "execution_count": 68,
   "metadata": {},
   "outputs": [
    {
     "name": "stdout",
     "output_type": "stream",
     "text": [
      "1234000000\n",
      "9999991234\n"
     ]
    }
   ],
   "source": [
    "str5 = '1234'\n",
    "print(str5.ljust(10,'0'))\n",
    "print(str5.rjust(10,'9'))"
   ]
  },
  {
   "cell_type": "markdown",
   "metadata": {},
   "source": [
    "- `lstrip([chars])` 截掉字符串左边的空格或指定字符。\n",
    "- `rstrip([chars])` 删除字符串末尾的空格或指定字符。\n",
    "- `strip([chars])` 在字符串上执行`lstrip()`和`rstrip()`。"
   ]
  },
  {
   "cell_type": "code",
   "execution_count": 70,
   "metadata": {},
   "outputs": [
    {
     "name": "stdout",
     "output_type": "stream",
     "text": [
      "hello python  \n",
      " hello python\n",
      "hello pytho\n"
     ]
    }
   ],
   "source": [
    "str6 = ' hello python  '\n",
    "print(str6.lstrip())\n",
    "print(str6.rstrip())\n",
    "print(str6.strip().strip('n'))"
   ]
  },
  {
   "cell_type": "markdown",
   "metadata": {},
   "source": [
    "- `partition(sub)` 找到子字符串sub，把字符串分为一个三元组`(pre_sub,sub,fol_sub)`，如果字符串中不包含sub则返回`('原字符串','','')`。\n",
    "- `rpartition(sub)`类似于`partition()`方法，不过是从右边开始查找。"
   ]
  },
  {
   "cell_type": "code",
   "execution_count": 72,
   "metadata": {},
   "outputs": [
    {
     "name": "stdout",
     "output_type": "stream",
     "text": [
      "('hell', 'o', ' python')\n",
      "('hello pyth', 'o', 'n')\n"
     ]
    }
   ],
   "source": [
    "str7 = 'hello python'\n",
    "print(str7.partition('o'))\n",
    "print(str7.rpartition('o'))  #只能进行一次分割"
   ]
  },
  {
   "cell_type": "markdown",
   "metadata": {},
   "source": [
    "#### 替换函数"
   ]
  },
  {
   "cell_type": "markdown",
   "metadata": {},
   "source": [
    "`replace(old, new [, max])` 把 将字符串中的`old`替换成`new`，如果`max`指定，则替换不超过`max`次。"
   ]
  },
  {
   "cell_type": "code",
   "execution_count": 76,
   "metadata": {},
   "outputs": [
    {
     "name": "stdout",
     "output_type": "stream",
     "text": [
      "  hellz pythzn  \n",
      "helly pythyn\n"
     ]
    }
   ],
   "source": [
    "str8 = '  hello python  '\n",
    "print(str8.replace('o','z'))\n",
    "print(str8.strip().replace('o','y'))   #strip() 方法用于移除字符串头尾指定的字符（默认为空格或换行符）或字符序列。"
   ]
  },
  {
   "cell_type": "markdown",
   "metadata": {},
   "source": [
    "#### 切片函数"
   ]
  },
  {
   "cell_type": "markdown",
   "metadata": {},
   "source": [
    "`split(str=\"\", num)` 不带参数默认是以空格为分隔符切片字符串，如果`num`参数有设置，则仅分隔`num`个子字符串，返回切片后的子字符串拼接的列表。"
   ]
  },
  {
   "cell_type": "code",
   "execution_count": 77,
   "metadata": {},
   "outputs": [
    {
     "name": "stdout",
     "output_type": "stream",
     "text": [
      "['hello', 'python']\n",
      "['hello', 'python']\n",
      "['hell', ' pyth', 'n']\n"
     ]
    }
   ],
   "source": [
    "str9 = '  hello python  '\n",
    "print(str9.split())\n",
    "print(str9.strip().split())\n",
    "print(str9.strip().split('o'))"
   ]
  },
  {
   "cell_type": "markdown",
   "metadata": {},
   "source": [
    "`splitlines([keepends])` 按照行('\\r', '\\r\\n', \\n')分隔，返回一个包含各行作为元素的列表，如果参数`keepends`为 False，不包含换行符，如果为 True，则保留换行符。"
   ]
  },
  {
   "cell_type": "code",
   "execution_count": 85,
   "metadata": {},
   "outputs": [
    {
     "name": "stdout",
     "output_type": "stream",
     "text": [
      "['hello ', ' python']\n",
      "['hello \\n', ' python']\n"
     ]
    }
   ],
   "source": [
    "str9 = '  hello \\n python  '\n",
    "print(str9.strip().splitlines())\n",
    "print(str9.strip().splitlines(True))"
   ]
  },
  {
   "cell_type": "markdown",
   "metadata": {},
   "source": [
    "#### 映射函数"
   ]
  },
  {
   "cell_type": "markdown",
   "metadata": {},
   "source": [
    "- `maketrans(intab, outtab)` 创建字符映射的转换表，第一个参数是字符串，表示需要转换的字符，第二个参数也是字符串表示转换的目标。\n",
    "- `translate(table, deletechars=\"\")` 根据参数`table`给出的表，转换字符串的字符，要过滤掉的字符放到`deletechars`参数中。"
   ]
  },
  {
   "cell_type": "code",
   "execution_count": 87,
   "metadata": {},
   "outputs": [
    {
     "name": "stdout",
     "output_type": "stream",
     "text": [
      "{119: 49, 116: 50, 121: 51, 105: 52, 117: 53}\n",
      "1ha2 are 3o5 2alk4ng abo52?\n"
     ]
    }
   ],
   "source": [
    "str10 = 'what are you talking about?'\n",
    "intab = 'wtyiu'\n",
    "outtab = '12345'\n",
    "trantab = str10.maketrans(intab, outtab)\n",
    "print(trantab)\n",
    "print(str10.translate(trantab))"
   ]
  },
  {
   "cell_type": "markdown",
   "metadata": {},
   "source": [
    "### 字符串格式化"
   ]
  },
  {
   "cell_type": "markdown",
   "metadata": {},
   "source": [
    "#### format() 格式化函数"
   ]
  },
  {
   "cell_type": "code",
   "execution_count": 88,
   "metadata": {},
   "outputs": [
    {
     "name": "stdout",
     "output_type": "stream",
     "text": [
      "I Love python\n"
     ]
    }
   ],
   "source": [
    "# 位置参数\n",
    "str11 = '{0} Love {1}'.format('I','python')\n",
    "print(str11)"
   ]
  },
  {
   "cell_type": "code",
   "execution_count": 89,
   "metadata": {},
   "outputs": [
    {
     "name": "stdout",
     "output_type": "stream",
     "text": [
      "I Love python\n"
     ]
    }
   ],
   "source": [
    "#关键字参数\n",
    "str12 = '{a} Love {b}'.format(a='I',b=\"python\")\n",
    "print(str12)"
   ]
  },
  {
   "cell_type": "code",
   "execution_count": 90,
   "metadata": {},
   "outputs": [
    {
     "name": "stdout",
     "output_type": "stream",
     "text": [
      "I Love python\n"
     ]
    }
   ],
   "source": [
    "#位置参数要在关键字参数之前\n",
    "str13 = '{0} Love {a}'.format('I',a='python')\n",
    "print(str13)"
   ]
  },
  {
   "cell_type": "code",
   "execution_count": 96,
   "metadata": {},
   "outputs": [
    {
     "name": "stdout",
     "output_type": "stream",
     "text": [
      "23.5GB\n"
     ]
    }
   ],
   "source": [
    "#保留小数点后两位\n",
    "#str14 = '{0:.2f}{1}'.format(23.445223,'GB')   #print(str14)\n",
    "str15 = '{1:.1f}{0}'.format('GB',23.45441)\n",
    "print(str15)"
   ]
  },
  {
   "cell_type": "markdown",
   "metadata": {},
   "source": [
    "### Python 字符串格式化符号"
   ]
  },
  {
   "cell_type": "markdown",
   "metadata": {},
   "source": [
    "| 符   号 | 描述                                 |\n",
    "| :-----: | :----------------------------------- |\n",
    "|   %c    | 格式化字符及其ASCII码                |\n",
    "|   %s    | 格式化字符串，用str()方法处理对象    |\n",
    "|   %r    | 格式化字符串，用rper()方法处理对象   |\n",
    "|   %d    | 格式化整数                           |\n",
    "|   %o    | 格式化无符号八进制数                 |\n",
    "|   %x    | 格式化无符号十六进制数               |\n",
    "|   %X    | 格式化无符号十六进制数（大写）       |\n",
    "|   %f    | 格式化浮点数字，可指定小数点后的精度 |\n",
    "|   %e    | 用科学计数法格式化浮点数             |\n",
    "|   %E    | 作用同%e，用科学计数法格式化浮点数   |\n",
    "|   %g    | 根据值的大小决定使用%f或%e           |\n",
    "|   %G    | 作用同%g，根据值的大小决定使用%f或%E |"
   ]
  },
  {
   "cell_type": "code",
   "execution_count": 97,
   "metadata": {},
   "outputs": [
    {
     "name": "stdout",
     "output_type": "stream",
     "text": [
      "a\n",
      "a b c\n",
      "4 + 5 = 9\n",
      "我叫 小明 今年 10 岁!\n",
      "12\n",
      "a\n",
      "A\n",
      "27.658000\n",
      "2.765800e+01\n",
      "2.765800E+01\n",
      "27.658\n",
      "I said: I am 22 years old..\n",
      "I said: 'I am 22 years old.'.\n"
     ]
    }
   ],
   "source": [
    "# 使用到的时候再仔细查询\n",
    "print('%c' % 97)  # a\n",
    "print('%c %c %c' % (97, 98, 99))  # a b c\n",
    "print('%d + %d = %d' % (4, 5, 9))  # 4 + 5 = 9\n",
    "print(\"我叫 %s 今年 %d 岁!\" % ('小明', 10))  # 我叫 小明 今年 10 岁!\n",
    "print('%o' % 10)  # 12\n",
    "print('%x' % 10)  # a\n",
    "print('%X' % 10)  # A\n",
    "print('%f' % 27.658)  # 27.658000\n",
    "print('%e' % 27.658)  # 2.765800e+01\n",
    "print('%E' % 27.658)  # 2.765800E+01\n",
    "print('%g' % 27.658)  # 27.658\n",
    "text = \"I am %d years old.\" % 22\n",
    "print(\"I said: %s.\" % text)  # I said: I am 22 years old..\n",
    "print(\"I said: %r.\" % text)  # I said: 'I am 22 years old.'"
   ]
  }
 ],
 "metadata": {
  "kernelspec": {
   "display_name": "Python 3",
   "language": "python",
   "name": "python3"
  },
  "language_info": {
   "codemirror_mode": {
    "name": "ipython",
    "version": 3
   },
   "file_extension": ".py",
   "mimetype": "text/x-python",
   "name": "python",
   "nbconvert_exporter": "python",
   "pygments_lexer": "ipython3",
   "version": "3.7.6"
  },
  "toc-autonumbering": true,
  "toc-showcode": false,
  "toc-showmarkdowntxt": false,
  "toc-showtags": false
 },
 "nbformat": 4,
 "nbformat_minor": 4
}
