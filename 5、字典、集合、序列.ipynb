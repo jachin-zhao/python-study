{
 "cells": [
  {
   "cell_type": "markdown",
   "metadata": {},
   "source": [
    "# 字典、集合、序列"
   ]
  },
  {
   "cell_type": "markdown",
   "metadata": {},
   "source": [
    "## 字典"
   ]
  },
  {
   "cell_type": "markdown",
   "metadata": {},
   "source": [
    "- 字典以\"关键字\"为索引，关键字可以是任意不可变类型，通常用字符串或数值。\n",
    "- 字典是 Python 唯一的一个 <u>映射类型</u>，字符串、元组、列表属于<u>序列类型</u>。"
   ]
  },
  {
   "cell_type": "markdown",
   "metadata": {},
   "source": [
    "### 可变类型和不可变类型"
   ]
  },
  {
   "cell_type": "code",
   "execution_count": 2,
   "metadata": {},
   "outputs": [
    {
     "name": "stdout",
     "output_type": "stream",
     "text": [
      "1\n",
      "2528502973977326415\n"
     ]
    },
    {
     "ename": "TypeError",
     "evalue": "unhashable type: 'list'",
     "output_type": "error",
     "traceback": [
      "\u001b[0;31m---------------------------------------------------------------------------\u001b[0m",
      "\u001b[0;31mTypeError\u001b[0m                                 Traceback (most recent call last)",
      "\u001b[0;32m<ipython-input-2-f210e1cfbab4>\u001b[0m in \u001b[0;36m<module>\u001b[0;34m\u001b[0m\n\u001b[1;32m      2\u001b[0m \u001b[0mprint\u001b[0m\u001b[0;34m(\u001b[0m\u001b[0mhash\u001b[0m\u001b[0;34m(\u001b[0m\u001b[0;36m1\u001b[0m\u001b[0;34m)\u001b[0m\u001b[0;34m)\u001b[0m\u001b[0;34m\u001b[0m\u001b[0;34m\u001b[0m\u001b[0m\n\u001b[1;32m      3\u001b[0m \u001b[0mprint\u001b[0m\u001b[0;34m(\u001b[0m\u001b[0mhash\u001b[0m\u001b[0;34m(\u001b[0m\u001b[0;34m(\u001b[0m\u001b[0;36m1\u001b[0m\u001b[0;34m,\u001b[0m\u001b[0;36m2\u001b[0m\u001b[0;34m,\u001b[0m\u001b[0;36m3\u001b[0m\u001b[0;34m)\u001b[0m\u001b[0;34m)\u001b[0m\u001b[0;34m)\u001b[0m  \u001b[0;31m#哈希元组\u001b[0m\u001b[0;34m\u001b[0m\u001b[0;34m\u001b[0m\u001b[0m\n\u001b[0;32m----> 4\u001b[0;31m \u001b[0mprint\u001b[0m\u001b[0;34m(\u001b[0m\u001b[0mhash\u001b[0m\u001b[0;34m(\u001b[0m\u001b[0;34m[\u001b[0m\u001b[0;36m1\u001b[0m\u001b[0;34m,\u001b[0m\u001b[0;36m2\u001b[0m\u001b[0;34m,\u001b[0m\u001b[0;36m3\u001b[0m\u001b[0;34m]\u001b[0m\u001b[0;34m)\u001b[0m\u001b[0;34m)\u001b[0m  \u001b[0;31m#哈希列表\u001b[0m\u001b[0;34m\u001b[0m\u001b[0;34m\u001b[0m\u001b[0m\n\u001b[0m",
      "\u001b[0;31mTypeError\u001b[0m: unhashable type: 'list'"
     ]
    }
   ],
   "source": [
    "# 通过hash（）函数进行判断，如果不报错，则代表可以被哈希，就是不可变\n",
    "print(hash(1))\n",
    "print(hash((1,2,3)))  #哈希元组\n",
    "print(hash([1,2,3]))  #哈希列表"
   ]
  },
  {
   "cell_type": "code",
   "execution_count": 3,
   "metadata": {},
   "outputs": [
    {
     "ename": "TypeError",
     "evalue": "unhashable type: 'set'",
     "output_type": "error",
     "traceback": [
      "\u001b[0;31m---------------------------------------------------------------------------\u001b[0m",
      "\u001b[0;31mTypeError\u001b[0m                                 Traceback (most recent call last)",
      "\u001b[0;32m<ipython-input-3-4a07bc70d2c2>\u001b[0m in \u001b[0;36m<module>\u001b[0;34m\u001b[0m\n\u001b[0;32m----> 1\u001b[0;31m \u001b[0mprint\u001b[0m\u001b[0;34m(\u001b[0m\u001b[0mhash\u001b[0m\u001b[0;34m(\u001b[0m\u001b[0;34m{\u001b[0m\u001b[0;36m1\u001b[0m\u001b[0;34m,\u001b[0m\u001b[0;36m2\u001b[0m\u001b[0;34m,\u001b[0m\u001b[0;36m3\u001b[0m\u001b[0;34m}\u001b[0m\u001b[0;34m)\u001b[0m\u001b[0;34m)\u001b[0m  \u001b[0;31m#哈希字典\u001b[0m\u001b[0;34m\u001b[0m\u001b[0;34m\u001b[0m\u001b[0m\n\u001b[0m",
      "\u001b[0;31mTypeError\u001b[0m: unhashable type: 'set'"
     ]
    }
   ],
   "source": [
    "print(hash({1,2,3}))  #哈希字典"
   ]
  },
  {
   "cell_type": "markdown",
   "metadata": {},
   "source": [
    "列表、元组、字典是可变的，所以返回不能哈希，元组、字符、数值不可变，可以返回哈希值"
   ]
  },
  {
   "cell_type": "markdown",
   "metadata": {},
   "source": [
    "### 字典的定义"
   ]
  },
  {
   "cell_type": "markdown",
   "metadata": {},
   "source": [
    "字典的构成是无序的 键:值（`key:value`）对集合，键必须是互不相同的（在同一个字典之内）。"
   ]
  },
  {
   "cell_type": "markdown",
   "metadata": {},
   "source": [
    "字典 定义语法为 `{元素1, 元素2, ..., 元素n}`\n",
    "\n",
    "- 其中每一个元素是一个「键值对」-- 键:值 (`key:value`)\n",
    "- 关键点是「大括号 {}」,「逗号 ,」和「冒号 :」\n",
    "- 大括号 -- 把所有元素绑在一起\n",
    "- 逗号 -- 将每个键值对分开\n",
    "- 冒号 -- 将键和值分开"
   ]
  },
  {
   "cell_type": "markdown",
   "metadata": {},
   "source": [
    "### 创建与访问字典"
   ]
  },
  {
   "cell_type": "code",
   "execution_count": 5,
   "metadata": {},
   "outputs": [
    {
     "name": "stdout",
     "output_type": "stream",
     "text": [
      "耐克的口号是: Just do it\n"
     ]
    }
   ],
   "source": [
    "dic = {'李宁': '一切皆有可能', '耐克': 'Just do it', '阿迪达斯': 'Impossible is nothing'}\n",
    "print('耐克的口号是:', dic['耐克'])  "
   ]
  },
  {
   "cell_type": "code",
   "execution_count": 7,
   "metadata": {},
   "outputs": [
    {
     "name": "stdout",
     "output_type": "stream",
     "text": [
      "{'a': 1, 'b': 2, 'c': 3}\n"
     ]
    }
   ],
   "source": [
    "# 使用dict（）创建一个空的字典\n",
    "dic1 = dict()\n",
    "dic1['a'] = 1\n",
    "dic1['b'] = 2\n",
    "dic1['c'] = 3\n",
    "print(dic1)"
   ]
  },
  {
   "cell_type": "code",
   "execution_count": 9,
   "metadata": {},
   "outputs": [
    {
     "name": "stdout",
     "output_type": "stream",
     "text": [
      "{'a': 1, 'b': 2, 'c': 11}\n"
     ]
    }
   ],
   "source": [
    "dic1['c'] = 11    #将c对应的值替换为11\n",
    "print(dic1)"
   ]
  },
  {
   "cell_type": "code",
   "execution_count": 12,
   "metadata": {},
   "outputs": [
    {
     "name": "stdout",
     "output_type": "stream",
     "text": [
      "{'apple': 4139, 'peach': 4127, 'cherry': 4098}\n",
      "{'apple': 4139, 'peach': 4127, 'cherry': 4098} <class 'dict'>\n"
     ]
    }
   ],
   "source": [
    "# 使用dict（）将列表和元组转化为字典格式\n",
    "dic2 = dict([('apple', 4139), ('peach', 4127), ('cherry', 4098)])\n",
    "print(dic2)  # {'cherry': 4098, 'apple': 4139, 'peach': 4127}\n",
    "\n",
    "dic3 = dict((('apple', 4139), ('peach', 4127), ('cherry', 4098)))\n",
    "print(dic3,type(dic3))  # {'peach': 4127, 'cherry': 4098, 'apple': 4139}"
   ]
  },
  {
   "cell_type": "code",
   "execution_count": 15,
   "metadata": {},
   "outputs": [
    {
     "name": "stdout",
     "output_type": "stream",
     "text": [
      "{'name': 'Tom', 'age': 10} <class 'dict'>\n"
     ]
    }
   ],
   "source": [
    "dic4 = dict(name='Tom', age=10)\n",
    "print(dic4, type(dic4))  # {'name': 'Tom', 'age': 10} "
   ]
  },
  {
   "cell_type": "markdown",
   "metadata": {},
   "source": [
    "### 字典的内置方法"
   ]
  },
  {
   "cell_type": "markdown",
   "metadata": {},
   "source": [
    "#### `dict.fromkeys(seq[, value])`"
   ]
  },
  {
   "cell_type": "markdown",
   "metadata": {},
   "source": [
    "> `dict.fromkeys(seq[, value])` 用于创建一个新字典，以序列 `seq` 中元素做字典的键，`value` 为字典所有键对应的初始值。"
   ]
  },
  {
   "cell_type": "code",
   "execution_count": 17,
   "metadata": {},
   "outputs": [
    {
     "name": "stdout",
     "output_type": "stream",
     "text": [
      "{'name': 10, 'age': 10, 'sex': 10}\n"
     ]
    }
   ],
   "source": [
    "seq = ('name', 'age' , 'sex')\n",
    "dic4 = dict.fromkeys(seq,10)\n",
    "print(dic4)"
   ]
  },
  {
   "cell_type": "markdown",
   "metadata": {},
   "source": [
    "#### dict.key()"
   ]
  },
  {
   "cell_type": "code",
   "execution_count": 18,
   "metadata": {},
   "outputs": [
    {
     "name": "stdout",
     "output_type": "stream",
     "text": [
      "dict_keys(['Name', 'Age'])\n",
      "['Name', 'Age']\n"
     ]
    }
   ],
   "source": [
    "#返回一个可迭代对象，可以使用list（）转换为列表，列表为字典中的所有键。\n",
    "dic = {'Name': 'lsgogroup', 'Age': 7}\n",
    "print(dic.keys()) \n",
    "lst = list(dic.keys()) \n",
    "print(lst) "
   ]
  },
  {
   "cell_type": "markdown",
   "metadata": {},
   "source": [
    "#### dict.values()"
   ]
  },
  {
   "cell_type": "code",
   "execution_count": 19,
   "metadata": {},
   "outputs": [
    {
     "name": "stdout",
     "output_type": "stream",
     "text": [
      "dict_values(['female', 7, 'Zara'])\n",
      "['female', 7, 'Zara']\n"
     ]
    }
   ],
   "source": [
    "#返回一个迭代器，可以使用 `list()` 来转换为列表，列表为字典中的所有值。\n",
    "dic = {'Sex': 'female', 'Age': 7, 'Name': 'Zara'}\n",
    "print(dic.values())\n",
    "print(list(dic.values()))"
   ]
  },
  {
   "cell_type": "markdown",
   "metadata": {},
   "source": [
    "#### dict.items()"
   ]
  },
  {
   "cell_type": "code",
   "execution_count": 21,
   "metadata": {},
   "outputs": [
    {
     "name": "stdout",
     "output_type": "stream",
     "text": [
      "dict_items([('Name', 'Lsgogroup'), ('Age', 7)])\n",
      "(('Name', 'Lsgogroup'), ('Age', 7))\n",
      "[('Name', 'Lsgogroup'), ('Age', 7)]\n"
     ]
    }
   ],
   "source": [
    "#以列表返回可遍历的 (键, 值) 元组数组。\n",
    "dic = {'Name': 'Lsgogroup', 'Age': 7}\n",
    "print(dic.items())            #以字典方式返回\n",
    "print(tuple(dic.items()))     #以元组方式返回\n",
    "print(list(dic.items()))      #以列表方式返回"
   ]
  },
  {
   "cell_type": "markdown",
   "metadata": {},
   "source": [
    "#### dict.get(key,default=None)"
   ]
  },
  {
   "cell_type": "code",
   "execution_count": 24,
   "metadata": {},
   "outputs": [
    {
     "name": "stdout",
     "output_type": "stream",
     "text": [
      "Age 值为 : 27\n",
      "Sex 值为 : NANA\n",
      "Sex 值为 : None\n",
      "{'Name': 'Lsgogroup', 'Age': 27}\n"
     ]
    }
   ],
   "source": [
    "#返回指定键的值，如果值不在字典中返回默认值。\n",
    "dic = {'Name': 'Lsgogroup', 'Age': 27}\n",
    "print(\"Age 值为 : %s\" % dic.get('Age'))  # Age 值为 : 27\n",
    "print(\"Sex 值为 : %s\" % dic.get('Sex', \"NANA\"))  # Sex 值为 : NA\n",
    "print(\"Sex 值为 : %s\" % dic.get('Sex'))\n",
    "print(dic)  # {'Name': 'Lsgogroup', 'Age': 27}"
   ]
  },
  {
   "cell_type": "markdown",
   "metadata": {},
   "source": [
    "#### dict.setdefault(key, default=None)"
   ]
  },
  {
   "cell_type": "markdown",
   "metadata": {},
   "source": [
    "和`get()`方法 类似, 如果键不存在于字典中，将会添加键并将值设为默认值。"
   ]
  },
  {
   "cell_type": "code",
   "execution_count": 26,
   "metadata": {},
   "outputs": [
    {
     "name": "stdout",
     "output_type": "stream",
     "text": [
      "Age 键的值为 : 7\n",
      "Sex 键的值为 : None\n",
      "{'Name': 'Lsgogroup', 'Age': 7, 'Sex': None}\n"
     ]
    }
   ],
   "source": [
    "dic = {'Name': 'Lsgogroup', 'Age': 7}\n",
    "print(\"Age 键的值为 : %s\" % dic.setdefault('Age', None))  # Age 键的值为 : 7\n",
    "print(\"Sex 键的值为 : %s\" % dic.setdefault('Sex', None))  # Sex 键的值为 : None\n",
    "print(dic)   #{'Name': 'Lsgogroup', 'Age': 7, 'Sex': None}"
   ]
  },
  {
   "cell_type": "markdown",
   "metadata": {},
   "source": [
    "#### key in dict in"
   ]
  },
  {
   "cell_type": "markdown",
   "metadata": {},
   "source": [
    "用于判断键是否存在于字典中，如果键在字典 dict 里返回`true`，否则返回`false`。而`not in`操作符刚好相反，如果键在字典 dict 里返回`false`，否则返回`true`。"
   ]
  },
  {
   "cell_type": "code",
   "execution_count": 27,
   "metadata": {},
   "outputs": [
    {
     "name": "stdout",
     "output_type": "stream",
     "text": [
      "键 Age 存在\n",
      "键 Sex 不存在\n",
      "键 Age 存在\n"
     ]
    }
   ],
   "source": [
    "dic = {'Name': 'Lsgogroup', 'Age': 7}\n",
    "# in 检测键 Age 是否存在\n",
    "if 'Age' in dic:\n",
    "    print(\"键 Age 存在\")\n",
    "else:\n",
    "    print(\"键 Age 不存在\")\n",
    "\n",
    "# 检测键 Sex 是否存在\n",
    "if 'Sex' in dic:\n",
    "    print(\"键 Sex 存在\")\n",
    "else:\n",
    "    print(\"键 Sex 不存在\")\n",
    "\n",
    "# not in 检测键 Age 是否存在\n",
    "if 'Age' not in dic:\n",
    "    print(\"键 Age 不存在\")\n",
    "else:\n",
    "    print(\"键 Age 存在\")   "
   ]
  },
  {
   "cell_type": "markdown",
   "metadata": {},
   "source": [
    "#### `dict.pop(key[,default])` and `del dict[key]`"
   ]
  },
  {
   "cell_type": "markdown",
   "metadata": {},
   "source": [
    "删除字典给定键 `key` 所对应的值，返回值为被删除的值。`key` 值必须给出。若`key`不存在，则返回 `default` 值。"
   ]
  },
  {
   "cell_type": "code",
   "execution_count": 28,
   "metadata": {},
   "outputs": [
    {
     "name": "stdout",
     "output_type": "stream",
     "text": [
      "a {2: [1, 2]}\n",
      "nokey {2: [1, 2]}\n",
      "{}\n"
     ]
    }
   ],
   "source": [
    "dic1 = {1: \"a\", 2: [1, 2]}\n",
    "print(dic1.pop(1), dic1)  # a {2: [1, 2]}\n",
    "\n",
    "# 设置默认值，必须添加，否则报错\n",
    "print(dic1.pop(3, \"nokey\"), dic1)  # nokey {2: [1, 2]}"
   ]
  },
  {
   "cell_type": "code",
   "execution_count": 31,
   "metadata": {},
   "outputs": [
    {
     "name": "stdout",
     "output_type": "stream",
     "text": [
      "{2: [1, 2]}\n"
     ]
    }
   ],
   "source": [
    "dic11 = {1: \"a\", 2: [1, 2]}\n",
    "del dic11[1]   #只负责删除，不带有返回功能。pop（）另外带有返回被删除键所对应的值\n",
    "print(dic11)  "
   ]
  },
  {
   "cell_type": "markdown",
   "metadata": {},
   "source": [
    "#### dict.popitem()"
   ]
  },
  {
   "cell_type": "markdown",
   "metadata": {},
   "source": [
    "随即返回并删除字典中的一对键值对，用来测试字典是否为空，如果为空，却调用了此方法，就会报KeyError异常。然后可以使用try...expect...函数"
   ]
  },
  {
   "cell_type": "markdown",
   "metadata": {},
   "source": [
    "#### dict.clear()"
   ]
  },
  {
   "cell_type": "code",
   "execution_count": 33,
   "metadata": {},
   "outputs": [
    {
     "name": "stdout",
     "output_type": "stream",
     "text": [
      "None\n"
     ]
    }
   ],
   "source": [
    "#清理字典中的所有元素\n",
    "dic12 = {'a':1,'b':2}\n",
    "print(dic12.clear())"
   ]
  },
  {
   "cell_type": "markdown",
   "metadata": {},
   "source": [
    "#### dict.copy()"
   ]
  },
  {
   "cell_type": "code",
   "execution_count": 34,
   "metadata": {},
   "outputs": [
    {
     "name": "stdout",
     "output_type": "stream",
     "text": [
      "{'a': 1, 'b': 2}\n"
     ]
    }
   ],
   "source": [
    "#返回一个字典的浅复制\n",
    "dic13 = {'a':1,'b':2}\n",
    "dic14 = dic13.copy()\n",
    "print(dic14)"
   ]
  },
  {
   "cell_type": "markdown",
   "metadata": {},
   "source": [
    "##### 直接复制和copy的差别"
   ]
  },
  {
   "cell_type": "code",
   "execution_count": 35,
   "metadata": {},
   "outputs": [
    {
     "name": "stdout",
     "output_type": "stream",
     "text": [
      "140506321522112\n",
      "140506321522112\n",
      "140506317439776\n",
      "{'user': 'root', 'num': [2, 3]}\n",
      "{'user': 'root', 'num': [2, 3]}\n",
      "{'user': 'lsgogroup', 'num': [2, 3]}\n"
     ]
    }
   ],
   "source": [
    "dic1 = {'user': 'lsgogroup', 'num': [1, 2, 3]}\n",
    "\n",
    "# 引用对象\n",
    "dic2 = dic1  \n",
    "# 浅拷贝父对象（一级目录），子对象（二级目录）不拷贝，还是引用\n",
    "dic3 = dic1.copy()  \n",
    "\n",
    "print(id(dic1))  # 148635574728\n",
    "print(id(dic2))  # 148635574728\n",
    "print(id(dic3))  # 148635574344\n",
    "\n",
    "# 修改 data 数据\n",
    "dic1['user'] = 'root'\n",
    "dic1['num'].remove(1)\n",
    "\n",
    "# 输出结果\n",
    "print(dic1)  # {'user': 'root', 'num': [2, 3]}\n",
    "print(dic2)  # {'user': 'root', 'num': [2, 3]}\n",
    "print(dic3)  # {'user': 'runoob', 'num': [2, 3]}"
   ]
  },
  {
   "cell_type": "markdown",
   "metadata": {},
   "source": [
    "#### dict.update(dict2)"
   ]
  },
  {
   "cell_type": "code",
   "execution_count": 36,
   "metadata": {},
   "outputs": [
    {
     "name": "stdout",
     "output_type": "stream",
     "text": [
      "{'Name': 'Lsgogroup', 'Age': 8, 'Sex': 'female'}\n"
     ]
    }
   ],
   "source": [
    "#把字典参数2中的键值对更新到字典1中\n",
    "dic = {'Name': 'Lsgogroup', 'Age': 7}\n",
    "dic2 = {'Sex': 'female', 'Age': 8}\n",
    "dic.update(dic2)\n",
    "print(dic)  "
   ]
  }
 ],
 "metadata": {
  "kernelspec": {
   "display_name": "Python 3",
   "language": "python",
   "name": "python3"
  },
  "language_info": {
   "codemirror_mode": {
    "name": "ipython",
    "version": 3
   },
   "file_extension": ".py",
   "mimetype": "text/x-python",
   "name": "python",
   "nbconvert_exporter": "python",
   "pygments_lexer": "ipython3",
   "version": "3.7.6"
  }
 },
 "nbformat": 4,
 "nbformat_minor": 4
}
